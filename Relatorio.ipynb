{
 "cells": [
  {
   "cell_type": "markdown",
   "metadata": {},
   "source": [
    "# Relatório Indexador"
   ]
  },
  {
   "cell_type": "markdown",
   "metadata": {},
   "source": [
    "Alunos:\n",
    "\n",
    "Sávio Cabral - 20183005980\n",
    "\n",
    "Lucca Miranda - 20183011736\n"
   ]
  },
  {
   "cell_type": "markdown",
   "metadata": {},
   "source": [
    "### Após a criação do índice, ele deve ser gravado em arquivo (inclusive o vocabulário). Favor disponibilizar o link para que eu possa fazer o download do arquivo (via dropbox, por ex). Além de instruções completas para que eu possa abri-lo. \n",
    "\n",
    "O link do índice e do vocabulário estão disponíveis, respectivamente, a seguir:\n",
    "\n",
    "https://drive.google.com/file/d/175HdSfZjY3SPKiEUkkKCfFe_jLDsCXVs/view?usp=sharing\n",
    "\n",
    "https://drive.google.com/file/d/1yHeRkW0KYGx5ZBIzu2f6m1V2vT502r8p/view?usp=sharing\n",
    "\n",
    "### Para ler o vocabulário basta executar a célula a seguir:"
   ]
  },
  {
   "cell_type": "code",
   "execution_count": null,
   "metadata": {},
   "outputs": [],
   "source": [
    "from index.structure import *\n",
    "wiki_idx = Index.read(\"wiki.idx\")\n",
    "\n",
    "print(wiki_idx.vocabulary)"
   ]
  },
  {
   "cell_type": "markdown",
   "metadata": {},
   "source": [
    "## Discussão sobre a decisão de implementação adotada:\n",
    "\n",
    "### Quais foram os principais desafios e soluções?\n",
    "\n",
    "Os principais desafios encontrados pela dupla na implementação do indexador na primeira parte foram relacionados a lógica da parte de estrutura, mais especificamente na classe `FileIndex`, em que foi necessário despender um bom tempo do trabalho entendendo o funcionamento da estrutura de dados que a equipe precisou usar por questões de performance de memória. A maior dificuldade foi durante a manipulação dos ponteiros dentro dos arquivos binários.\n",
    "\n",
    "Já na segunda parte, os problemas enfrentados foram principalmente atrelados as características da linguagem Python, mais especificamente no método `read()`, em que foi necessário adicionar a linha `sys.path.append('index')` para o sistema corretamente encontrar o módulo do indexador entre outras peculiaridades.\n",
    "\n",
    "### Qual é a vantagem/desvantagem das suas soluções sob as outras alternativas (por exemplo, uso do índice em memória principal x ocorrência de termos em memória secundária)?\n",
    "\n",
    "Utilizamos o `HashIndex` na nossa indexação final. Ele é especialmente poderoso em questões de performance de memória, já que armazena o índice em memória principal, não sendo necessário gravar nenhum dado em memória secundária. Em contraponto, o `FileIndex` é capaz de realizar a mesma tarefa, porém, salvando os índices temporários em memória secundária, levando assim a um maior tempo de execução.\n",
    "\n",
    "### O que você melhoraria no seu código para diminuir o consumo de memoria ou deixá-lo mais eficiente?\n",
    "\n",
    "Não conseguimos pensar em nenhuma melhoria viável."
   ]
  },
  {
   "cell_type": "markdown",
   "metadata": {},
   "source": [
    "### Quais são as bibliotecas externas utilizadas? Explique o funcionamento da técnica de stemming adotada.\n",
    "\n",
    "Como bibliotecas auxiliares para a implementação, pode-se citar o `BeautifulSoup` para gerenciamento de HTML e `nltk` para tokenização das frases e stemming.\n",
    "\n",
    "A técnica de stemming consiste em unir palavras similares para facilitar a busca posterior. Como exemplo citado pela própria lib, connection, connections, connective, connected, e connecting to seriam mapeadas para uma única palavra, connect. Assim quando pesquisarmos por \"connective\", documentos relacionadas a \"connection\" seriam também encontrados.\n",
    "\n",
    "O algoritmo funciona passo a passo removendo possíveis sufixos pre definidos em um dicionário. Por exemplo, no primeiro passo do algoritmo, alguns sufixos padrões são removidos como: eza, ezas, ico, no segundo passo os sufixos de verbos são removidos, como: ada, ida, ia, aria, eria e assim em diante, até que a maioria das palavras estejam classificadas. Em alguns casos específicos em que não foi possível classificar, o algoritmo prefere não forçar uma classificação visto que um `under-stemming` é geralmente menos prejudicial que um `over-stemming`.\n"
   ]
  },
  {
   "cell_type": "markdown",
   "metadata": {},
   "source": [
    "### Qual foi a estrutura do índice utilizado?\n",
    "Utilizamos `HashIndex` pois este executa mais rápido.\n",
    "\n",
    "### Quanto MB de ram cada solução de índice gastou?\n",
    "`HashIndex` utilizou aproximadamente 6,5GB de memória.\n",
    "`FileIndex` utilizou aproximadamente 258MB de memória.\n",
    "\n",
    "### Em quanto tempo foi realizado a indexação? Qual foi a média por documento?\n",
    "`HashIndex` a duração foi de 22 minutos e 39 segundos, média de 0,022 segundos por documento.\n",
    "\n",
    "`FileIndex` a duração foi de 3 horas e 57 minutos, média de 0,24 segundos por documento."
   ]
  },
  {
   "cell_type": "markdown",
   "metadata": {},
   "source": []
  }
 ],
 "metadata": {
  "kernelspec": {
   "display_name": "Python 3.9.9 64-bit ('3.9.9')",
   "language": "python",
   "name": "python3"
  },
  "language_info": {
   "codemirror_mode": {
    "name": "ipython",
    "version": 3
   },
   "file_extension": ".py",
   "mimetype": "text/x-python",
   "name": "python",
   "nbconvert_exporter": "python",
   "pygments_lexer": "ipython3",
   "version": "3.9.9"
  },
  "orig_nbformat": 4,
  "vscode": {
   "interpreter": {
    "hash": "dc405a783b290eb124c16be9354043a02e5917b761a04c066d550cd9e9ef16d4"
   }
  }
 },
 "nbformat": 4,
 "nbformat_minor": 2
}
